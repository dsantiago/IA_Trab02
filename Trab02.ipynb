{
 "cells": [
  {
   "cell_type": "code",
   "execution_count": 1,
   "metadata": {},
   "outputs": [],
   "source": [
    "from searchtree import SearchTree"
   ]
  },
  {
   "cell_type": "code",
   "execution_count": 2,
   "metadata": {},
   "outputs": [],
   "source": [
    "INITIAL_STATE = (3, 3, 1)\n",
    "GOAL_STATE = (0, 0, 0)\n",
    "\n",
    "MOVES = [\n",
    "    (1, 0),  # 1 missionary\n",
    "    (2, 0),  # 2 missionaries\n",
    "    (0, 1),  # 1 cannibal\n",
    "    (0, 2),  # 2 cannibals\n",
    "    (1, 1),  # 1 missionary and 1 cannibal\n",
    "]\n",
    "\n",
    "search = SearchTree(INITIAL_STATE, GOAL_STATE, MOVES)"
   ]
  },
  {
   "attachments": {},
   "cell_type": "markdown",
   "metadata": {},
   "source": [
    "### Breadth First Search"
   ]
  },
  {
   "cell_type": "code",
   "execution_count": 3,
   "metadata": {},
   "outputs": [
    {
     "name": "stdout",
     "output_type": "stream",
     "text": [
      "Há solução: True\n"
     ]
    },
    {
     "data": {
      "image/svg+xml": "<svg xmlns=\"http://www.w3.org/2000/svg\" xmlns:xlink=\"http://www.w3.org/1999/xlink\" width=\"281pt\" height=\"935pt\" viewBox=\"0.00 0.00 281.29 935.00\">\n<g id=\"graph0\" class=\"graph\" transform=\"scale(1 1) rotate(0) translate(4 931)\">\n<title>G</title>\n<polygon fill=\"white\" stroke=\"none\" points=\"-4,4 -4,-931 277.29,-931 277.29,4 -4,4\"/>\n<!-- (3, 3, 1) -->\n<g id=\"node1\" class=\"node\">\n<title>(3, 3, 1)</title>\n<ellipse fill=\"none\" stroke=\"black\" cx=\"136.65\" cy=\"-909\" rx=\"39.79\" ry=\"18\"/>\n<text text-anchor=\"middle\" x=\"136.65\" y=\"-905.3\" font-family=\"Times,serif\" font-size=\"14.00\">(3, 3, 1)</text>\n</g>\n<!-- (3, 2, 0) -->\n<g id=\"node2\" class=\"node\">\n<title>(3, 2, 0)</title>\n<ellipse fill=\"red\" stroke=\"black\" cx=\"39.65\" cy=\"-828\" rx=\"39.79\" ry=\"18\"/>\n<text text-anchor=\"middle\" x=\"39.65\" y=\"-824.3\" font-family=\"Times,serif\" font-size=\"14.00\">(3, 2, 0)</text>\n</g>\n<!-- (3, 3, 1)&#45;&#45;(3, 2, 0) -->\n<g id=\"edge1\" class=\"edge\">\n<title>(3, 3, 1)--(3, 2, 0)</title>\n<path fill=\"none\" stroke=\"black\" d=\"M117.94,-892.77C100.77,-878.78 75.45,-858.16 58.29,-844.19\"/>\n<text text-anchor=\"middle\" x=\"101.15\" y=\"-866.6\" font-family=\"Times,serif\" font-size=\"8.00\">(0, 1)</text>\n</g>\n<!-- (3, 1, 0) -->\n<g id=\"node3\" class=\"node\">\n<title>(3, 1, 0)</title>\n<ellipse fill=\"none\" stroke=\"black\" cx=\"136.65\" cy=\"-828\" rx=\"39.79\" ry=\"18\"/>\n<text text-anchor=\"middle\" x=\"136.65\" y=\"-824.3\" font-family=\"Times,serif\" font-size=\"14.00\">(3, 1, 0)</text>\n</g>\n<!-- (3, 3, 1)&#45;&#45;(3, 1, 0) -->\n<g id=\"edge2\" class=\"edge\">\n<title>(3, 3, 1)--(3, 1, 0)</title>\n<path fill=\"none\" stroke=\"black\" d=\"M136.65,-890.86C136.65,-877.7 136.65,-859.6 136.65,-846.38\"/>\n<text text-anchor=\"middle\" x=\"146.15\" y=\"-866.6\" font-family=\"Times,serif\" font-size=\"8.00\">(0, 2)</text>\n</g>\n<!-- (2, 2, 0) -->\n<g id=\"node4\" class=\"node\">\n<title>(2, 2, 0)</title>\n<ellipse fill=\"red\" stroke=\"black\" cx=\"233.65\" cy=\"-828\" rx=\"39.79\" ry=\"18\"/>\n<text text-anchor=\"middle\" x=\"233.65\" y=\"-824.3\" font-family=\"Times,serif\" font-size=\"14.00\">(2, 2, 0)</text>\n</g>\n<!-- (3, 3, 1)&#45;&#45;(2, 2, 0) -->\n<g id=\"edge3\" class=\"edge\">\n<title>(3, 3, 1)--(2, 2, 0)</title>\n<path fill=\"none\" stroke=\"black\" d=\"M155.35,-892.77C172.53,-878.78 197.84,-858.16 215,-844.19\"/>\n<text text-anchor=\"middle\" x=\"198.15\" y=\"-866.6\" font-family=\"Times,serif\" font-size=\"8.00\">(1, 1)</text>\n</g>\n<!-- (3, 2, 1) -->\n<g id=\"node5\" class=\"node\">\n<title>(3, 2, 1)</title>\n<ellipse fill=\"none\" stroke=\"black\" cx=\"136.65\" cy=\"-747\" rx=\"39.79\" ry=\"18\"/>\n<text text-anchor=\"middle\" x=\"136.65\" y=\"-743.3\" font-family=\"Times,serif\" font-size=\"14.00\">(3, 2, 1)</text>\n</g>\n<!-- (3, 1, 0)&#45;&#45;(3, 2, 1) -->\n<g id=\"edge4\" class=\"edge\">\n<title>(3, 1, 0)--(3, 2, 1)</title>\n<path fill=\"none\" stroke=\"black\" d=\"M136.65,-809.86C136.65,-796.7 136.65,-778.6 136.65,-765.38\"/>\n<text text-anchor=\"middle\" x=\"146.15\" y=\"-785.6\" font-family=\"Times,serif\" font-size=\"8.00\">(0, 1)</text>\n</g>\n<!-- (3, 0, 0) -->\n<g id=\"node6\" class=\"node\">\n<title>(3, 0, 0)</title>\n<ellipse fill=\"none\" stroke=\"black\" cx=\"136.65\" cy=\"-666\" rx=\"39.79\" ry=\"18\"/>\n<text text-anchor=\"middle\" x=\"136.65\" y=\"-662.3\" font-family=\"Times,serif\" font-size=\"14.00\">(3, 0, 0)</text>\n</g>\n<!-- (3, 2, 1)&#45;&#45;(3, 0, 0) -->\n<g id=\"edge5\" class=\"edge\">\n<title>(3, 2, 1)--(3, 0, 0)</title>\n<path fill=\"none\" stroke=\"black\" d=\"M136.65,-728.86C136.65,-715.7 136.65,-697.6 136.65,-684.38\"/>\n<text text-anchor=\"middle\" x=\"146.15\" y=\"-704.6\" font-family=\"Times,serif\" font-size=\"8.00\">(0, 2)</text>\n</g>\n<!-- (3, 1, 1) -->\n<g id=\"node7\" class=\"node\">\n<title>(3, 1, 1)</title>\n<ellipse fill=\"none\" stroke=\"black\" cx=\"136.65\" cy=\"-585\" rx=\"39.79\" ry=\"18\"/>\n<text text-anchor=\"middle\" x=\"136.65\" y=\"-581.3\" font-family=\"Times,serif\" font-size=\"14.00\">(3, 1, 1)</text>\n</g>\n<!-- (3, 0, 0)&#45;&#45;(3, 1, 1) -->\n<g id=\"edge6\" class=\"edge\">\n<title>(3, 0, 0)--(3, 1, 1)</title>\n<path fill=\"none\" stroke=\"black\" d=\"M136.65,-647.86C136.65,-634.7 136.65,-616.6 136.65,-603.38\"/>\n<text text-anchor=\"middle\" x=\"146.15\" y=\"-623.6\" font-family=\"Times,serif\" font-size=\"8.00\">(0, 1)</text>\n</g>\n<!-- (1, 1, 0) -->\n<g id=\"node8\" class=\"node\">\n<title>(1, 1, 0)</title>\n<ellipse fill=\"none\" stroke=\"black\" cx=\"136.65\" cy=\"-504\" rx=\"39.79\" ry=\"18\"/>\n<text text-anchor=\"middle\" x=\"136.65\" y=\"-500.3\" font-family=\"Times,serif\" font-size=\"14.00\">(1, 1, 0)</text>\n</g>\n<!-- (3, 1, 1)&#45;&#45;(1, 1, 0) -->\n<g id=\"edge7\" class=\"edge\">\n<title>(3, 1, 1)--(1, 1, 0)</title>\n<path fill=\"none\" stroke=\"black\" d=\"M136.65,-566.86C136.65,-553.7 136.65,-535.6 136.65,-522.38\"/>\n<text text-anchor=\"middle\" x=\"146.15\" y=\"-542.6\" font-family=\"Times,serif\" font-size=\"8.00\">(2, 0)</text>\n</g>\n<!-- (2, 2, 1) -->\n<g id=\"node9\" class=\"node\">\n<title>(2, 2, 1)</title>\n<ellipse fill=\"none\" stroke=\"black\" cx=\"136.65\" cy=\"-423\" rx=\"39.79\" ry=\"18\"/>\n<text text-anchor=\"middle\" x=\"136.65\" y=\"-419.3\" font-family=\"Times,serif\" font-size=\"14.00\">(2, 2, 1)</text>\n</g>\n<!-- (1, 1, 0)&#45;&#45;(2, 2, 1) -->\n<g id=\"edge8\" class=\"edge\">\n<title>(1, 1, 0)--(2, 2, 1)</title>\n<path fill=\"none\" stroke=\"black\" d=\"M136.65,-485.86C136.65,-472.7 136.65,-454.6 136.65,-441.38\"/>\n<text text-anchor=\"middle\" x=\"146.15\" y=\"-461.6\" font-family=\"Times,serif\" font-size=\"8.00\">(1, 1)</text>\n</g>\n<!-- (0, 2, 0) -->\n<g id=\"node10\" class=\"node\">\n<title>(0, 2, 0)</title>\n<ellipse fill=\"none\" stroke=\"black\" cx=\"136.65\" cy=\"-342\" rx=\"39.79\" ry=\"18\"/>\n<text text-anchor=\"middle\" x=\"136.65\" y=\"-338.3\" font-family=\"Times,serif\" font-size=\"14.00\">(0, 2, 0)</text>\n</g>\n<!-- (2, 2, 1)&#45;&#45;(0, 2, 0) -->\n<g id=\"edge9\" class=\"edge\">\n<title>(2, 2, 1)--(0, 2, 0)</title>\n<path fill=\"none\" stroke=\"black\" d=\"M136.65,-404.86C136.65,-391.7 136.65,-373.6 136.65,-360.38\"/>\n<text text-anchor=\"middle\" x=\"146.15\" y=\"-380.6\" font-family=\"Times,serif\" font-size=\"8.00\">(2, 0)</text>\n</g>\n<!-- (0, 3, 1) -->\n<g id=\"node11\" class=\"node\">\n<title>(0, 3, 1)</title>\n<ellipse fill=\"none\" stroke=\"black\" cx=\"136.65\" cy=\"-261\" rx=\"39.79\" ry=\"18\"/>\n<text text-anchor=\"middle\" x=\"136.65\" y=\"-257.3\" font-family=\"Times,serif\" font-size=\"14.00\">(0, 3, 1)</text>\n</g>\n<!-- (0, 2, 0)&#45;&#45;(0, 3, 1) -->\n<g id=\"edge10\" class=\"edge\">\n<title>(0, 2, 0)--(0, 3, 1)</title>\n<path fill=\"none\" stroke=\"black\" d=\"M136.65,-323.86C136.65,-310.7 136.65,-292.6 136.65,-279.38\"/>\n<text text-anchor=\"middle\" x=\"146.15\" y=\"-299.6\" font-family=\"Times,serif\" font-size=\"8.00\">(0, 1)</text>\n</g>\n<!-- (0, 1, 0) -->\n<g id=\"node12\" class=\"node\">\n<title>(0, 1, 0)</title>\n<ellipse fill=\"none\" stroke=\"black\" cx=\"136.65\" cy=\"-180\" rx=\"39.79\" ry=\"18\"/>\n<text text-anchor=\"middle\" x=\"136.65\" y=\"-176.3\" font-family=\"Times,serif\" font-size=\"14.00\">(0, 1, 0)</text>\n</g>\n<!-- (0, 3, 1)&#45;&#45;(0, 1, 0) -->\n<g id=\"edge11\" class=\"edge\">\n<title>(0, 3, 1)--(0, 1, 0)</title>\n<path fill=\"none\" stroke=\"black\" d=\"M136.65,-242.86C136.65,-229.7 136.65,-211.6 136.65,-198.38\"/>\n<text text-anchor=\"middle\" x=\"146.15\" y=\"-218.6\" font-family=\"Times,serif\" font-size=\"8.00\">(0, 2)</text>\n</g>\n<!-- (1, 1, 1) -->\n<g id=\"node13\" class=\"node\">\n<title>(1, 1, 1)</title>\n<ellipse fill=\"none\" stroke=\"black\" cx=\"64.65\" cy=\"-99\" rx=\"39.79\" ry=\"18\"/>\n<text text-anchor=\"middle\" x=\"64.65\" y=\"-95.3\" font-family=\"Times,serif\" font-size=\"14.00\">(1, 1, 1)</text>\n</g>\n<!-- (0, 1, 0)&#45;&#45;(1, 1, 1) -->\n<g id=\"edge12\" class=\"edge\">\n<title>(0, 1, 0)--(1, 1, 1)</title>\n<path fill=\"none\" stroke=\"black\" d=\"M122.08,-163.01C109.58,-149.31 91.68,-129.66 79.2,-115.96\"/>\n<text text-anchor=\"middle\" x=\"113.15\" y=\"-137.6\" font-family=\"Times,serif\" font-size=\"8.00\">(1, 0)</text>\n</g>\n<!-- (0, 2, 1) -->\n<g id=\"node14\" class=\"node\">\n<title>(0, 2, 1)</title>\n<ellipse fill=\"red\" stroke=\"black\" cx=\"161.65\" cy=\"-99\" rx=\"39.79\" ry=\"18\"/>\n<text text-anchor=\"middle\" x=\"161.65\" y=\"-95.3\" font-family=\"Times,serif\" font-size=\"14.00\">(0, 2, 1)</text>\n</g>\n<!-- (0, 1, 0)&#45;&#45;(0, 2, 1) -->\n<g id=\"edge13\" class=\"edge\">\n<title>(0, 1, 0)--(0, 2, 1)</title>\n<path fill=\"none\" stroke=\"black\" d=\"M142.07,-161.86C146.26,-148.61 152.04,-130.35 156.23,-117.11\"/>\n<text text-anchor=\"middle\" x=\"160.15\" y=\"-137.6\" font-family=\"Times,serif\" font-size=\"8.00\">(0, 1)</text>\n</g>\n<!-- (0, 0, 0) -->\n<g id=\"node15\" class=\"node\">\n<title>(0, 0, 0)</title>\n<ellipse fill=\"green\" stroke=\"black\" cx=\"64.65\" cy=\"-18\" rx=\"39.79\" ry=\"18\"/>\n<text text-anchor=\"middle\" x=\"64.65\" y=\"-14.3\" font-family=\"Times,serif\" font-size=\"14.00\">(0, 0, 0)</text>\n</g>\n<!-- (1, 1, 1)&#45;&#45;(0, 0, 0) -->\n<g id=\"edge14\" class=\"edge\">\n<title>(1, 1, 1)--(0, 0, 0)</title>\n<path fill=\"none\" stroke=\"black\" d=\"M64.65,-80.86C64.65,-67.7 64.65,-49.6 64.65,-36.38\"/>\n<text text-anchor=\"middle\" x=\"74.15\" y=\"-56.6\" font-family=\"Times,serif\" font-size=\"8.00\">(1, 1)</text>\n</g>\n</g>\n</svg>",
      "text/plain": [
       "<IPython.core.display.SVG object>"
      ]
     },
     "execution_count": 3,
     "metadata": {},
     "output_type": "execute_result"
    }
   ],
   "source": [
    "result, graph = search.bfs()\n",
    "print(\"Há solução:\", result)\n",
    "graph.show()"
   ]
  },
  {
   "cell_type": "markdown",
   "metadata": {},
   "source": [
    "### Depth First Search"
   ]
  },
  {
   "cell_type": "code",
   "execution_count": 4,
   "metadata": {},
   "outputs": [
    {
     "name": "stdout",
     "output_type": "stream",
     "text": [
      "Há solução: True\n"
     ]
    },
    {
     "data": {
      "image/svg+xml": "<svg xmlns=\"http://www.w3.org/2000/svg\" xmlns:xlink=\"http://www.w3.org/1999/xlink\" width=\"247pt\" height=\"935pt\" viewBox=\"0.00 0.00 247.29 935.00\">\n<g id=\"graph0\" class=\"graph\" transform=\"scale(1 1) rotate(0) translate(4 931)\">\n<title>G</title>\n<polygon fill=\"white\" stroke=\"none\" points=\"-4,4 -4,-931 243.29,-931 243.29,4 -4,4\"/>\n<!-- (3, 3, 1) -->\n<g id=\"node1\" class=\"node\">\n<title>(3, 3, 1)</title>\n<ellipse fill=\"none\" stroke=\"black\" cx=\"73.65\" cy=\"-909\" rx=\"39.79\" ry=\"18\"/>\n<text text-anchor=\"middle\" x=\"73.65\" y=\"-905.3\" font-family=\"Times,serif\" font-size=\"14.00\">(3, 3, 1)</text>\n</g>\n<!-- (3, 2, 0) -->\n<g id=\"node2\" class=\"node\">\n<title>(3, 2, 0)</title>\n<ellipse fill=\"red\" stroke=\"black\" cx=\"39.65\" cy=\"-828\" rx=\"39.79\" ry=\"18\"/>\n<text text-anchor=\"middle\" x=\"39.65\" y=\"-824.3\" font-family=\"Times,serif\" font-size=\"14.00\">(3, 2, 0)</text>\n</g>\n<!-- (3, 3, 1)&#45;&#45;(3, 2, 0) -->\n<g id=\"edge1\" class=\"edge\">\n<title>(3, 3, 1)--(3, 2, 0)</title>\n<path fill=\"none\" stroke=\"black\" d=\"M66.27,-890.86C60.57,-877.61 52.71,-859.35 47.01,-846.11\"/>\n<text text-anchor=\"middle\" x=\"68.15\" y=\"-866.6\" font-family=\"Times,serif\" font-size=\"8.00\">(0, 1)</text>\n</g>\n<!-- (3, 1, 0) -->\n<g id=\"node3\" class=\"node\">\n<title>(3, 1, 0)</title>\n<ellipse fill=\"none\" stroke=\"black\" cx=\"136.65\" cy=\"-828\" rx=\"39.79\" ry=\"18\"/>\n<text text-anchor=\"middle\" x=\"136.65\" y=\"-824.3\" font-family=\"Times,serif\" font-size=\"14.00\">(3, 1, 0)</text>\n</g>\n<!-- (3, 3, 1)&#45;&#45;(3, 1, 0) -->\n<g id=\"edge2\" class=\"edge\">\n<title>(3, 3, 1)--(3, 1, 0)</title>\n<path fill=\"none\" stroke=\"black\" d=\"M86.7,-891.63C97.51,-878.07 112.8,-858.9 123.61,-845.35\"/>\n<text text-anchor=\"middle\" x=\"116.15\" y=\"-866.6\" font-family=\"Times,serif\" font-size=\"8.00\">(0, 2)</text>\n</g>\n<!-- (3, 2, 1) -->\n<g id=\"node4\" class=\"node\">\n<title>(3, 2, 1)</title>\n<ellipse fill=\"none\" stroke=\"black\" cx=\"136.65\" cy=\"-747\" rx=\"39.79\" ry=\"18\"/>\n<text text-anchor=\"middle\" x=\"136.65\" y=\"-743.3\" font-family=\"Times,serif\" font-size=\"14.00\">(3, 2, 1)</text>\n</g>\n<!-- (3, 1, 0)&#45;&#45;(3, 2, 1) -->\n<g id=\"edge3\" class=\"edge\">\n<title>(3, 1, 0)--(3, 2, 1)</title>\n<path fill=\"none\" stroke=\"black\" d=\"M136.65,-809.86C136.65,-796.7 136.65,-778.6 136.65,-765.38\"/>\n<text text-anchor=\"middle\" x=\"146.15\" y=\"-785.6\" font-family=\"Times,serif\" font-size=\"8.00\">(0, 1)</text>\n</g>\n<!-- (2, 2, 0) -->\n<g id=\"node5\" class=\"node\">\n<title>(2, 2, 0)</title>\n<ellipse fill=\"red\" stroke=\"black\" cx=\"102.65\" cy=\"-666\" rx=\"39.79\" ry=\"18\"/>\n<text text-anchor=\"middle\" x=\"102.65\" y=\"-662.3\" font-family=\"Times,serif\" font-size=\"14.00\">(2, 2, 0)</text>\n</g>\n<!-- (3, 2, 1)&#45;&#45;(2, 2, 0) -->\n<g id=\"edge4\" class=\"edge\">\n<title>(3, 2, 1)--(2, 2, 0)</title>\n<path fill=\"none\" stroke=\"black\" d=\"M129.27,-728.86C123.57,-715.61 115.71,-697.35 110.01,-684.11\"/>\n<text text-anchor=\"middle\" x=\"130.15\" y=\"-704.6\" font-family=\"Times,serif\" font-size=\"8.00\">(1, 0)</text>\n</g>\n<!-- (3, 0, 0) -->\n<g id=\"node6\" class=\"node\">\n<title>(3, 0, 0)</title>\n<ellipse fill=\"none\" stroke=\"black\" cx=\"199.65\" cy=\"-666\" rx=\"39.79\" ry=\"18\"/>\n<text text-anchor=\"middle\" x=\"199.65\" y=\"-662.3\" font-family=\"Times,serif\" font-size=\"14.00\">(3, 0, 0)</text>\n</g>\n<!-- (3, 2, 1)&#45;&#45;(3, 0, 0) -->\n<g id=\"edge5\" class=\"edge\">\n<title>(3, 2, 1)--(3, 0, 0)</title>\n<path fill=\"none\" stroke=\"black\" d=\"M149.7,-729.63C160.51,-716.07 175.8,-696.9 186.61,-683.35\"/>\n<text text-anchor=\"middle\" x=\"179.15\" y=\"-704.6\" font-family=\"Times,serif\" font-size=\"8.00\">(0, 2)</text>\n</g>\n<!-- (3, 1, 1) -->\n<g id=\"node7\" class=\"node\">\n<title>(3, 1, 1)</title>\n<ellipse fill=\"none\" stroke=\"black\" cx=\"199.65\" cy=\"-585\" rx=\"39.79\" ry=\"18\"/>\n<text text-anchor=\"middle\" x=\"199.65\" y=\"-581.3\" font-family=\"Times,serif\" font-size=\"14.00\">(3, 1, 1)</text>\n</g>\n<!-- (3, 0, 0)&#45;&#45;(3, 1, 1) -->\n<g id=\"edge6\" class=\"edge\">\n<title>(3, 0, 0)--(3, 1, 1)</title>\n<path fill=\"none\" stroke=\"black\" d=\"M199.65,-647.86C199.65,-634.7 199.65,-616.6 199.65,-603.38\"/>\n<text text-anchor=\"middle\" x=\"209.15\" y=\"-623.6\" font-family=\"Times,serif\" font-size=\"8.00\">(0, 1)</text>\n</g>\n<!-- (1, 1, 0) -->\n<g id=\"node8\" class=\"node\">\n<title>(1, 1, 0)</title>\n<ellipse fill=\"none\" stroke=\"black\" cx=\"199.65\" cy=\"-504\" rx=\"39.79\" ry=\"18\"/>\n<text text-anchor=\"middle\" x=\"199.65\" y=\"-500.3\" font-family=\"Times,serif\" font-size=\"14.00\">(1, 1, 0)</text>\n</g>\n<!-- (3, 1, 1)&#45;&#45;(1, 1, 0) -->\n<g id=\"edge7\" class=\"edge\">\n<title>(3, 1, 1)--(1, 1, 0)</title>\n<path fill=\"none\" stroke=\"black\" d=\"M199.65,-566.86C199.65,-553.7 199.65,-535.6 199.65,-522.38\"/>\n<text text-anchor=\"middle\" x=\"209.15\" y=\"-542.6\" font-family=\"Times,serif\" font-size=\"8.00\">(2, 0)</text>\n</g>\n<!-- (2, 2, 1) -->\n<g id=\"node9\" class=\"node\">\n<title>(2, 2, 1)</title>\n<ellipse fill=\"none\" stroke=\"black\" cx=\"199.65\" cy=\"-423\" rx=\"39.79\" ry=\"18\"/>\n<text text-anchor=\"middle\" x=\"199.65\" y=\"-419.3\" font-family=\"Times,serif\" font-size=\"14.00\">(2, 2, 1)</text>\n</g>\n<!-- (1, 1, 0)&#45;&#45;(2, 2, 1) -->\n<g id=\"edge8\" class=\"edge\">\n<title>(1, 1, 0)--(2, 2, 1)</title>\n<path fill=\"none\" stroke=\"black\" d=\"M199.65,-485.86C199.65,-472.7 199.65,-454.6 199.65,-441.38\"/>\n<text text-anchor=\"middle\" x=\"209.15\" y=\"-461.6\" font-family=\"Times,serif\" font-size=\"8.00\">(1, 1)</text>\n</g>\n<!-- (0, 2, 0) -->\n<g id=\"node10\" class=\"node\">\n<title>(0, 2, 0)</title>\n<ellipse fill=\"none\" stroke=\"black\" cx=\"199.65\" cy=\"-342\" rx=\"39.79\" ry=\"18\"/>\n<text text-anchor=\"middle\" x=\"199.65\" y=\"-338.3\" font-family=\"Times,serif\" font-size=\"14.00\">(0, 2, 0)</text>\n</g>\n<!-- (2, 2, 1)&#45;&#45;(0, 2, 0) -->\n<g id=\"edge9\" class=\"edge\">\n<title>(2, 2, 1)--(0, 2, 0)</title>\n<path fill=\"none\" stroke=\"black\" d=\"M199.65,-404.86C199.65,-391.7 199.65,-373.6 199.65,-360.38\"/>\n<text text-anchor=\"middle\" x=\"209.15\" y=\"-380.6\" font-family=\"Times,serif\" font-size=\"8.00\">(2, 0)</text>\n</g>\n<!-- (0, 3, 1) -->\n<g id=\"node11\" class=\"node\">\n<title>(0, 3, 1)</title>\n<ellipse fill=\"none\" stroke=\"black\" cx=\"199.65\" cy=\"-261\" rx=\"39.79\" ry=\"18\"/>\n<text text-anchor=\"middle\" x=\"199.65\" y=\"-257.3\" font-family=\"Times,serif\" font-size=\"14.00\">(0, 3, 1)</text>\n</g>\n<!-- (0, 2, 0)&#45;&#45;(0, 3, 1) -->\n<g id=\"edge10\" class=\"edge\">\n<title>(0, 2, 0)--(0, 3, 1)</title>\n<path fill=\"none\" stroke=\"black\" d=\"M199.65,-323.86C199.65,-310.7 199.65,-292.6 199.65,-279.38\"/>\n<text text-anchor=\"middle\" x=\"209.15\" y=\"-299.6\" font-family=\"Times,serif\" font-size=\"8.00\">(0, 1)</text>\n</g>\n<!-- (0, 1, 0) -->\n<g id=\"node12\" class=\"node\">\n<title>(0, 1, 0)</title>\n<ellipse fill=\"none\" stroke=\"black\" cx=\"199.65\" cy=\"-180\" rx=\"39.79\" ry=\"18\"/>\n<text text-anchor=\"middle\" x=\"199.65\" y=\"-176.3\" font-family=\"Times,serif\" font-size=\"14.00\">(0, 1, 0)</text>\n</g>\n<!-- (0, 3, 1)&#45;&#45;(0, 1, 0) -->\n<g id=\"edge11\" class=\"edge\">\n<title>(0, 3, 1)--(0, 1, 0)</title>\n<path fill=\"none\" stroke=\"black\" d=\"M199.65,-242.86C199.65,-229.7 199.65,-211.6 199.65,-198.38\"/>\n<text text-anchor=\"middle\" x=\"209.15\" y=\"-218.6\" font-family=\"Times,serif\" font-size=\"8.00\">(0, 2)</text>\n</g>\n<!-- (1, 1, 1) -->\n<g id=\"node13\" class=\"node\">\n<title>(1, 1, 1)</title>\n<ellipse fill=\"none\" stroke=\"black\" cx=\"199.65\" cy=\"-99\" rx=\"39.79\" ry=\"18\"/>\n<text text-anchor=\"middle\" x=\"199.65\" y=\"-95.3\" font-family=\"Times,serif\" font-size=\"14.00\">(1, 1, 1)</text>\n</g>\n<!-- (0, 1, 0)&#45;&#45;(1, 1, 1) -->\n<g id=\"edge12\" class=\"edge\">\n<title>(0, 1, 0)--(1, 1, 1)</title>\n<path fill=\"none\" stroke=\"black\" d=\"M199.65,-161.86C199.65,-148.7 199.65,-130.6 199.65,-117.38\"/>\n<text text-anchor=\"middle\" x=\"209.15\" y=\"-137.6\" font-family=\"Times,serif\" font-size=\"8.00\">(1, 0)</text>\n</g>\n<!-- (0, 0, 0) -->\n<g id=\"node14\" class=\"node\">\n<title>(0, 0, 0)</title>\n<ellipse fill=\"green\" stroke=\"black\" cx=\"199.65\" cy=\"-18\" rx=\"39.79\" ry=\"18\"/>\n<text text-anchor=\"middle\" x=\"199.65\" y=\"-14.3\" font-family=\"Times,serif\" font-size=\"14.00\">(0, 0, 0)</text>\n</g>\n<!-- (1, 1, 1)&#45;&#45;(0, 0, 0) -->\n<g id=\"edge13\" class=\"edge\">\n<title>(1, 1, 1)--(0, 0, 0)</title>\n<path fill=\"none\" stroke=\"black\" d=\"M199.65,-80.86C199.65,-67.7 199.65,-49.6 199.65,-36.38\"/>\n<text text-anchor=\"middle\" x=\"209.15\" y=\"-56.6\" font-family=\"Times,serif\" font-size=\"8.00\">(1, 1)</text>\n</g>\n</g>\n</svg>",
      "text/plain": [
       "<IPython.core.display.SVG object>"
      ]
     },
     "execution_count": 4,
     "metadata": {},
     "output_type": "execute_result"
    }
   ],
   "source": [
    "result, graph = search.dfs()\n",
    "print(\"Há solução:\", result)\n",
    "graph.show()"
   ]
  },
  {
   "attachments": {},
   "cell_type": "markdown",
   "metadata": {},
   "source": [
    "### Greedy Best-First Search"
   ]
  },
  {
   "cell_type": "code",
   "execution_count": 5,
   "metadata": {},
   "outputs": [
    {
     "name": "stdout",
     "output_type": "stream",
     "text": [
      "Há solução: True\n"
     ]
    },
    {
     "data": {
      "image/svg+xml": "<svg xmlns=\"http://www.w3.org/2000/svg\" xmlns:xlink=\"http://www.w3.org/1999/xlink\" width=\"281pt\" height=\"935pt\" viewBox=\"0.00 0.00 281.29 935.00\">\n<g id=\"graph0\" class=\"graph\" transform=\"scale(1 1) rotate(0) translate(4 931)\">\n<title>G</title>\n<polygon fill=\"white\" stroke=\"none\" points=\"-4,4 -4,-931 277.29,-931 277.29,4 -4,4\"/>\n<!-- (3, 3, 1) -->\n<g id=\"node1\" class=\"node\">\n<title>(3, 3, 1)</title>\n<ellipse fill=\"none\" stroke=\"black\" cx=\"136.65\" cy=\"-909\" rx=\"39.79\" ry=\"18\"/>\n<text text-anchor=\"middle\" x=\"136.65\" y=\"-905.3\" font-family=\"Times,serif\" font-size=\"14.00\">(3, 3, 1)</text>\n</g>\n<!-- (3, 2, 0) -->\n<g id=\"node2\" class=\"node\">\n<title>(3, 2, 0)</title>\n<ellipse fill=\"red\" stroke=\"black\" cx=\"39.65\" cy=\"-828\" rx=\"39.79\" ry=\"18\"/>\n<text text-anchor=\"middle\" x=\"39.65\" y=\"-824.3\" font-family=\"Times,serif\" font-size=\"14.00\">(3, 2, 0)</text>\n</g>\n<!-- (3, 3, 1)&#45;&#45;(3, 2, 0) -->\n<g id=\"edge1\" class=\"edge\">\n<title>(3, 3, 1)--(3, 2, 0)</title>\n<path fill=\"none\" stroke=\"black\" d=\"M116.74,-893.27C108.57,-887.12 99.07,-879.82 90.65,-873 79.2,-863.72 66.67,-852.92 56.89,-844.34\"/>\n<text text-anchor=\"middle\" x=\"111.65\" y=\"-866.6\" font-family=\"Times,serif\" font-size=\"8.00\">(0, 1) cost: 5</text>\n</g>\n<!-- (3, 1, 0) -->\n<g id=\"node3\" class=\"node\">\n<title>(3, 1, 0)</title>\n<ellipse fill=\"none\" stroke=\"black\" cx=\"136.65\" cy=\"-828\" rx=\"39.79\" ry=\"18\"/>\n<text text-anchor=\"middle\" x=\"136.65\" y=\"-824.3\" font-family=\"Times,serif\" font-size=\"14.00\">(3, 1, 0)</text>\n</g>\n<!-- (3, 3, 1)&#45;&#45;(3, 1, 0) -->\n<g id=\"edge2\" class=\"edge\">\n<title>(3, 3, 1)--(3, 1, 0)</title>\n<path fill=\"none\" stroke=\"black\" d=\"M136.65,-890.86C136.65,-877.7 136.65,-859.6 136.65,-846.38\"/>\n<text text-anchor=\"middle\" x=\"157.65\" y=\"-866.6\" font-family=\"Times,serif\" font-size=\"8.00\">(0, 2) cost: 4</text>\n</g>\n<!-- (2, 2, 0) -->\n<g id=\"node4\" class=\"node\">\n<title>(2, 2, 0)</title>\n<ellipse fill=\"red\" stroke=\"black\" cx=\"233.65\" cy=\"-828\" rx=\"39.79\" ry=\"18\"/>\n<text text-anchor=\"middle\" x=\"233.65\" y=\"-824.3\" font-family=\"Times,serif\" font-size=\"14.00\">(2, 2, 0)</text>\n</g>\n<!-- (3, 3, 1)&#45;&#45;(2, 2, 0) -->\n<g id=\"edge3\" class=\"edge\">\n<title>(3, 3, 1)--(2, 2, 0)</title>\n<path fill=\"none\" stroke=\"black\" d=\"M156.55,-893.27C164.72,-887.12 174.23,-879.82 182.65,-873 194.09,-863.72 206.63,-852.92 216.4,-844.34\"/>\n<text text-anchor=\"middle\" x=\"213.65\" y=\"-866.6\" font-family=\"Times,serif\" font-size=\"8.00\">(1, 1) cost: 4</text>\n</g>\n<!-- (3, 2, 1) -->\n<g id=\"node5\" class=\"node\">\n<title>(3, 2, 1)</title>\n<ellipse fill=\"none\" stroke=\"black\" cx=\"136.65\" cy=\"-747\" rx=\"39.79\" ry=\"18\"/>\n<text text-anchor=\"middle\" x=\"136.65\" y=\"-743.3\" font-family=\"Times,serif\" font-size=\"14.00\">(3, 2, 1)</text>\n</g>\n<!-- (3, 1, 0)&#45;&#45;(3, 2, 1) -->\n<g id=\"edge4\" class=\"edge\">\n<title>(3, 1, 0)--(3, 2, 1)</title>\n<path fill=\"none\" stroke=\"black\" d=\"M136.65,-809.86C136.65,-796.7 136.65,-778.6 136.65,-765.38\"/>\n<text text-anchor=\"middle\" x=\"157.65\" y=\"-785.6\" font-family=\"Times,serif\" font-size=\"8.00\">(0, 1) cost: 6</text>\n</g>\n<!-- (3, 0, 0) -->\n<g id=\"node6\" class=\"node\">\n<title>(3, 0, 0)</title>\n<ellipse fill=\"none\" stroke=\"black\" cx=\"136.65\" cy=\"-666\" rx=\"39.79\" ry=\"18\"/>\n<text text-anchor=\"middle\" x=\"136.65\" y=\"-662.3\" font-family=\"Times,serif\" font-size=\"14.00\">(3, 0, 0)</text>\n</g>\n<!-- (3, 2, 1)&#45;&#45;(3, 0, 0) -->\n<g id=\"edge5\" class=\"edge\">\n<title>(3, 2, 1)--(3, 0, 0)</title>\n<path fill=\"none\" stroke=\"black\" d=\"M136.65,-728.86C136.65,-715.7 136.65,-697.6 136.65,-684.38\"/>\n<text text-anchor=\"middle\" x=\"157.65\" y=\"-704.6\" font-family=\"Times,serif\" font-size=\"8.00\">(0, 2) cost: 3</text>\n</g>\n<!-- (3, 1, 1) -->\n<g id=\"node7\" class=\"node\">\n<title>(3, 1, 1)</title>\n<ellipse fill=\"none\" stroke=\"black\" cx=\"136.65\" cy=\"-585\" rx=\"39.79\" ry=\"18\"/>\n<text text-anchor=\"middle\" x=\"136.65\" y=\"-581.3\" font-family=\"Times,serif\" font-size=\"14.00\">(3, 1, 1)</text>\n</g>\n<!-- (3, 0, 0)&#45;&#45;(3, 1, 1) -->\n<g id=\"edge6\" class=\"edge\">\n<title>(3, 0, 0)--(3, 1, 1)</title>\n<path fill=\"none\" stroke=\"black\" d=\"M136.65,-647.86C136.65,-634.7 136.65,-616.6 136.65,-603.38\"/>\n<text text-anchor=\"middle\" x=\"157.65\" y=\"-623.6\" font-family=\"Times,serif\" font-size=\"8.00\">(0, 1) cost: 5</text>\n</g>\n<!-- (1, 1, 0) -->\n<g id=\"node8\" class=\"node\">\n<title>(1, 1, 0)</title>\n<ellipse fill=\"none\" stroke=\"black\" cx=\"136.65\" cy=\"-504\" rx=\"39.79\" ry=\"18\"/>\n<text text-anchor=\"middle\" x=\"136.65\" y=\"-500.3\" font-family=\"Times,serif\" font-size=\"14.00\">(1, 1, 0)</text>\n</g>\n<!-- (3, 1, 1)&#45;&#45;(1, 1, 0) -->\n<g id=\"edge7\" class=\"edge\">\n<title>(3, 1, 1)--(1, 1, 0)</title>\n<path fill=\"none\" stroke=\"black\" d=\"M136.65,-566.86C136.65,-553.7 136.65,-535.6 136.65,-522.38\"/>\n<text text-anchor=\"middle\" x=\"157.65\" y=\"-542.6\" font-family=\"Times,serif\" font-size=\"8.00\">(2, 0) cost: 2</text>\n</g>\n<!-- (2, 2, 1) -->\n<g id=\"node9\" class=\"node\">\n<title>(2, 2, 1)</title>\n<ellipse fill=\"none\" stroke=\"black\" cx=\"136.65\" cy=\"-423\" rx=\"39.79\" ry=\"18\"/>\n<text text-anchor=\"middle\" x=\"136.65\" y=\"-419.3\" font-family=\"Times,serif\" font-size=\"14.00\">(2, 2, 1)</text>\n</g>\n<!-- (1, 1, 0)&#45;&#45;(2, 2, 1) -->\n<g id=\"edge8\" class=\"edge\">\n<title>(1, 1, 0)--(2, 2, 1)</title>\n<path fill=\"none\" stroke=\"black\" d=\"M136.65,-485.86C136.65,-472.7 136.65,-454.6 136.65,-441.38\"/>\n<text text-anchor=\"middle\" x=\"157.65\" y=\"-461.6\" font-family=\"Times,serif\" font-size=\"8.00\">(1, 1) cost: 5</text>\n</g>\n<!-- (0, 2, 0) -->\n<g id=\"node10\" class=\"node\">\n<title>(0, 2, 0)</title>\n<ellipse fill=\"none\" stroke=\"black\" cx=\"136.65\" cy=\"-342\" rx=\"39.79\" ry=\"18\"/>\n<text text-anchor=\"middle\" x=\"136.65\" y=\"-338.3\" font-family=\"Times,serif\" font-size=\"14.00\">(0, 2, 0)</text>\n</g>\n<!-- (2, 2, 1)&#45;&#45;(0, 2, 0) -->\n<g id=\"edge9\" class=\"edge\">\n<title>(2, 2, 1)--(0, 2, 0)</title>\n<path fill=\"none\" stroke=\"black\" d=\"M136.65,-404.86C136.65,-391.7 136.65,-373.6 136.65,-360.38\"/>\n<text text-anchor=\"middle\" x=\"157.65\" y=\"-380.6\" font-family=\"Times,serif\" font-size=\"8.00\">(2, 0) cost: 2</text>\n</g>\n<!-- (0, 3, 1) -->\n<g id=\"node11\" class=\"node\">\n<title>(0, 3, 1)</title>\n<ellipse fill=\"none\" stroke=\"black\" cx=\"136.65\" cy=\"-261\" rx=\"39.79\" ry=\"18\"/>\n<text text-anchor=\"middle\" x=\"136.65\" y=\"-257.3\" font-family=\"Times,serif\" font-size=\"14.00\">(0, 3, 1)</text>\n</g>\n<!-- (0, 2, 0)&#45;&#45;(0, 3, 1) -->\n<g id=\"edge10\" class=\"edge\">\n<title>(0, 2, 0)--(0, 3, 1)</title>\n<path fill=\"none\" stroke=\"black\" d=\"M136.65,-323.86C136.65,-310.7 136.65,-292.6 136.65,-279.38\"/>\n<text text-anchor=\"middle\" x=\"157.65\" y=\"-299.6\" font-family=\"Times,serif\" font-size=\"8.00\">(0, 1) cost: 4</text>\n</g>\n<!-- (0, 1, 0) -->\n<g id=\"node12\" class=\"node\">\n<title>(0, 1, 0)</title>\n<ellipse fill=\"none\" stroke=\"black\" cx=\"136.65\" cy=\"-180\" rx=\"39.79\" ry=\"18\"/>\n<text text-anchor=\"middle\" x=\"136.65\" y=\"-176.3\" font-family=\"Times,serif\" font-size=\"14.00\">(0, 1, 0)</text>\n</g>\n<!-- (0, 3, 1)&#45;&#45;(0, 1, 0) -->\n<g id=\"edge11\" class=\"edge\">\n<title>(0, 3, 1)--(0, 1, 0)</title>\n<path fill=\"none\" stroke=\"black\" d=\"M136.65,-242.86C136.65,-229.7 136.65,-211.6 136.65,-198.38\"/>\n<text text-anchor=\"middle\" x=\"157.65\" y=\"-218.6\" font-family=\"Times,serif\" font-size=\"8.00\">(0, 2) cost: 1</text>\n</g>\n<!-- (1, 1, 1) -->\n<g id=\"node13\" class=\"node\">\n<title>(1, 1, 1)</title>\n<ellipse fill=\"none\" stroke=\"black\" cx=\"72.65\" cy=\"-99\" rx=\"39.79\" ry=\"18\"/>\n<text text-anchor=\"middle\" x=\"72.65\" y=\"-95.3\" font-family=\"Times,serif\" font-size=\"14.00\">(1, 1, 1)</text>\n</g>\n<!-- (0, 1, 0)&#45;&#45;(1, 1, 1) -->\n<g id=\"edge12\" class=\"edge\">\n<title>(0, 1, 0)--(1, 1, 1)</title>\n<path fill=\"none\" stroke=\"black\" d=\"M122.43,-162.76C117.38,-156.9 111.7,-150.21 106.65,-144 99.33,-135.02 91.41,-124.79 85.05,-116.45\"/>\n<text text-anchor=\"middle\" x=\"127.65\" y=\"-137.6\" font-family=\"Times,serif\" font-size=\"8.00\">(1, 0) cost: 3</text>\n</g>\n<!-- (0, 2, 1) -->\n<g id=\"node14\" class=\"node\">\n<title>(0, 2, 1)</title>\n<ellipse fill=\"none\" stroke=\"black\" cx=\"169.65\" cy=\"-99\" rx=\"39.79\" ry=\"18\"/>\n<text text-anchor=\"middle\" x=\"169.65\" y=\"-95.3\" font-family=\"Times,serif\" font-size=\"14.00\">(0, 2, 1)</text>\n</g>\n<!-- (0, 1, 0)&#45;&#45;(0, 2, 1) -->\n<g id=\"edge13\" class=\"edge\">\n<title>(0, 1, 0)--(0, 2, 1)</title>\n<path fill=\"none\" stroke=\"black\" d=\"M143.81,-161.86C149.34,-148.61 156.97,-130.35 162.5,-117.11\"/>\n<text text-anchor=\"middle\" x=\"175.65\" y=\"-137.6\" font-family=\"Times,serif\" font-size=\"8.00\">(0, 1) cost: 3</text>\n</g>\n<!-- (0, 0, 0) -->\n<g id=\"node15\" class=\"node\">\n<title>(0, 0, 0)</title>\n<ellipse fill=\"green\" stroke=\"black\" cx=\"72.65\" cy=\"-18\" rx=\"39.79\" ry=\"18\"/>\n<text text-anchor=\"middle\" x=\"72.65\" y=\"-14.3\" font-family=\"Times,serif\" font-size=\"14.00\">(0, 0, 0)</text>\n</g>\n<!-- (1, 1, 1)&#45;&#45;(0, 0, 0) -->\n<g id=\"edge14\" class=\"edge\">\n<title>(1, 1, 1)--(0, 0, 0)</title>\n<path fill=\"none\" stroke=\"black\" d=\"M72.65,-80.86C72.65,-67.7 72.65,-49.6 72.65,-36.38\"/>\n<text text-anchor=\"middle\" x=\"93.65\" y=\"-56.6\" font-family=\"Times,serif\" font-size=\"8.00\">(1, 1) cost: 0</text>\n</g>\n</g>\n</svg>",
      "text/plain": [
       "<IPython.core.display.SVG object>"
      ]
     },
     "execution_count": 5,
     "metadata": {},
     "output_type": "execute_result"
    }
   ],
   "source": [
    "result, graph = search.gbfs()\n",
    "print(\"Há solução:\", result)\n",
    "graph.show()"
   ]
  },
  {
   "attachments": {},
   "cell_type": "markdown",
   "metadata": {},
   "source": [
    "### A Star"
   ]
  },
  {
   "cell_type": "code",
   "execution_count": 6,
   "metadata": {},
   "outputs": [
    {
     "name": "stdout",
     "output_type": "stream",
     "text": [
      "Há solução: True\n"
     ]
    },
    {
     "data": {
      "image/svg+xml": "<svg xmlns=\"http://www.w3.org/2000/svg\" xmlns:xlink=\"http://www.w3.org/1999/xlink\" width=\"281pt\" height=\"935pt\" viewBox=\"0.00 0.00 281.29 935.00\">\n<g id=\"graph0\" class=\"graph\" transform=\"scale(1 1) rotate(0) translate(4 931)\">\n<title>G</title>\n<polygon fill=\"white\" stroke=\"none\" points=\"-4,4 -4,-931 277.29,-931 277.29,4 -4,4\"/>\n<!-- (3, 3, 1) -->\n<g id=\"node1\" class=\"node\">\n<title>(3, 3, 1)</title>\n<ellipse fill=\"none\" stroke=\"black\" cx=\"136.65\" cy=\"-909\" rx=\"39.79\" ry=\"18\"/>\n<text text-anchor=\"middle\" x=\"136.65\" y=\"-905.3\" font-family=\"Times,serif\" font-size=\"14.00\">(3, 3, 1)</text>\n</g>\n<!-- (3, 2, 0) -->\n<g id=\"node2\" class=\"node\">\n<title>(3, 2, 0)</title>\n<ellipse fill=\"red\" stroke=\"black\" cx=\"39.65\" cy=\"-828\" rx=\"39.79\" ry=\"18\"/>\n<text text-anchor=\"middle\" x=\"39.65\" y=\"-824.3\" font-family=\"Times,serif\" font-size=\"14.00\">(3, 2, 0)</text>\n</g>\n<!-- (3, 3, 1)&#45;&#45;(3, 2, 0) -->\n<g id=\"edge1\" class=\"edge\">\n<title>(3, 3, 1)--(3, 2, 0)</title>\n<path fill=\"none\" stroke=\"black\" d=\"M116.74,-893.27C108.57,-887.12 99.07,-879.82 90.65,-873 79.2,-863.72 66.67,-852.92 56.89,-844.34\"/>\n<text text-anchor=\"middle\" x=\"111.65\" y=\"-866.6\" font-family=\"Times,serif\" font-size=\"8.00\">(0, 1) cost: 6</text>\n</g>\n<!-- (3, 1, 0) -->\n<g id=\"node3\" class=\"node\">\n<title>(3, 1, 0)</title>\n<ellipse fill=\"none\" stroke=\"black\" cx=\"136.65\" cy=\"-828\" rx=\"39.79\" ry=\"18\"/>\n<text text-anchor=\"middle\" x=\"136.65\" y=\"-824.3\" font-family=\"Times,serif\" font-size=\"14.00\">(3, 1, 0)</text>\n</g>\n<!-- (3, 3, 1)&#45;&#45;(3, 1, 0) -->\n<g id=\"edge2\" class=\"edge\">\n<title>(3, 3, 1)--(3, 1, 0)</title>\n<path fill=\"none\" stroke=\"black\" d=\"M136.65,-890.86C136.65,-877.7 136.65,-859.6 136.65,-846.38\"/>\n<text text-anchor=\"middle\" x=\"157.65\" y=\"-866.6\" font-family=\"Times,serif\" font-size=\"8.00\">(0, 2) cost: 5</text>\n</g>\n<!-- (2, 2, 0) -->\n<g id=\"node4\" class=\"node\">\n<title>(2, 2, 0)</title>\n<ellipse fill=\"red\" stroke=\"black\" cx=\"233.65\" cy=\"-828\" rx=\"39.79\" ry=\"18\"/>\n<text text-anchor=\"middle\" x=\"233.65\" y=\"-824.3\" font-family=\"Times,serif\" font-size=\"14.00\">(2, 2, 0)</text>\n</g>\n<!-- (3, 3, 1)&#45;&#45;(2, 2, 0) -->\n<g id=\"edge3\" class=\"edge\">\n<title>(3, 3, 1)--(2, 2, 0)</title>\n<path fill=\"none\" stroke=\"black\" d=\"M156.55,-893.27C164.72,-887.12 174.23,-879.82 182.65,-873 194.09,-863.72 206.63,-852.92 216.4,-844.34\"/>\n<text text-anchor=\"middle\" x=\"213.65\" y=\"-866.6\" font-family=\"Times,serif\" font-size=\"8.00\">(1, 1) cost: 5</text>\n</g>\n<!-- (3, 2, 1) -->\n<g id=\"node5\" class=\"node\">\n<title>(3, 2, 1)</title>\n<ellipse fill=\"none\" stroke=\"black\" cx=\"136.65\" cy=\"-747\" rx=\"39.79\" ry=\"18\"/>\n<text text-anchor=\"middle\" x=\"136.65\" y=\"-743.3\" font-family=\"Times,serif\" font-size=\"14.00\">(3, 2, 1)</text>\n</g>\n<!-- (3, 1, 0)&#45;&#45;(3, 2, 1) -->\n<g id=\"edge4\" class=\"edge\">\n<title>(3, 1, 0)--(3, 2, 1)</title>\n<path fill=\"none\" stroke=\"black\" d=\"M136.65,-809.86C136.65,-796.7 136.65,-778.6 136.65,-765.38\"/>\n<text text-anchor=\"middle\" x=\"157.65\" y=\"-785.6\" font-family=\"Times,serif\" font-size=\"8.00\">(0, 1) cost: 7</text>\n</g>\n<!-- (3, 0, 0) -->\n<g id=\"node6\" class=\"node\">\n<title>(3, 0, 0)</title>\n<ellipse fill=\"none\" stroke=\"black\" cx=\"136.65\" cy=\"-666\" rx=\"39.79\" ry=\"18\"/>\n<text text-anchor=\"middle\" x=\"136.65\" y=\"-662.3\" font-family=\"Times,serif\" font-size=\"14.00\">(3, 0, 0)</text>\n</g>\n<!-- (3, 2, 1)&#45;&#45;(3, 0, 0) -->\n<g id=\"edge5\" class=\"edge\">\n<title>(3, 2, 1)--(3, 0, 0)</title>\n<path fill=\"none\" stroke=\"black\" d=\"M136.65,-728.86C136.65,-715.7 136.65,-697.6 136.65,-684.38\"/>\n<text text-anchor=\"middle\" x=\"157.65\" y=\"-704.6\" font-family=\"Times,serif\" font-size=\"8.00\">(0, 2) cost: 6</text>\n</g>\n<!-- (3, 1, 1) -->\n<g id=\"node7\" class=\"node\">\n<title>(3, 1, 1)</title>\n<ellipse fill=\"none\" stroke=\"black\" cx=\"136.65\" cy=\"-585\" rx=\"39.79\" ry=\"18\"/>\n<text text-anchor=\"middle\" x=\"136.65\" y=\"-581.3\" font-family=\"Times,serif\" font-size=\"14.00\">(3, 1, 1)</text>\n</g>\n<!-- (3, 0, 0)&#45;&#45;(3, 1, 1) -->\n<g id=\"edge6\" class=\"edge\">\n<title>(3, 0, 0)--(3, 1, 1)</title>\n<path fill=\"none\" stroke=\"black\" d=\"M136.65,-647.86C136.65,-634.7 136.65,-616.6 136.65,-603.38\"/>\n<text text-anchor=\"middle\" x=\"157.65\" y=\"-623.6\" font-family=\"Times,serif\" font-size=\"8.00\">(0, 1) cost: 8</text>\n</g>\n<!-- (1, 1, 0) -->\n<g id=\"node8\" class=\"node\">\n<title>(1, 1, 0)</title>\n<ellipse fill=\"none\" stroke=\"black\" cx=\"136.65\" cy=\"-504\" rx=\"39.79\" ry=\"18\"/>\n<text text-anchor=\"middle\" x=\"136.65\" y=\"-500.3\" font-family=\"Times,serif\" font-size=\"14.00\">(1, 1, 0)</text>\n</g>\n<!-- (3, 1, 1)&#45;&#45;(1, 1, 0) -->\n<g id=\"edge7\" class=\"edge\">\n<title>(3, 1, 1)--(1, 1, 0)</title>\n<path fill=\"none\" stroke=\"black\" d=\"M136.65,-566.86C136.65,-553.7 136.65,-535.6 136.65,-522.38\"/>\n<text text-anchor=\"middle\" x=\"157.65\" y=\"-542.6\" font-family=\"Times,serif\" font-size=\"8.00\">(2, 0) cost: 7</text>\n</g>\n<!-- (2, 2, 1) -->\n<g id=\"node9\" class=\"node\">\n<title>(2, 2, 1)</title>\n<ellipse fill=\"none\" stroke=\"black\" cx=\"136.65\" cy=\"-423\" rx=\"39.79\" ry=\"18\"/>\n<text text-anchor=\"middle\" x=\"136.65\" y=\"-419.3\" font-family=\"Times,serif\" font-size=\"14.00\">(2, 2, 1)</text>\n</g>\n<!-- (1, 1, 0)&#45;&#45;(2, 2, 1) -->\n<g id=\"edge8\" class=\"edge\">\n<title>(1, 1, 0)--(2, 2, 1)</title>\n<path fill=\"none\" stroke=\"black\" d=\"M136.65,-485.86C136.65,-472.7 136.65,-454.6 136.65,-441.38\"/>\n<text text-anchor=\"middle\" x=\"159.65\" y=\"-461.6\" font-family=\"Times,serif\" font-size=\"8.00\">(1, 1) cost: 10</text>\n</g>\n<!-- (0, 2, 0) -->\n<g id=\"node10\" class=\"node\">\n<title>(0, 2, 0)</title>\n<ellipse fill=\"none\" stroke=\"black\" cx=\"136.65\" cy=\"-342\" rx=\"39.79\" ry=\"18\"/>\n<text text-anchor=\"middle\" x=\"136.65\" y=\"-338.3\" font-family=\"Times,serif\" font-size=\"14.00\">(0, 2, 0)</text>\n</g>\n<!-- (2, 2, 1)&#45;&#45;(0, 2, 0) -->\n<g id=\"edge9\" class=\"edge\">\n<title>(2, 2, 1)--(0, 2, 0)</title>\n<path fill=\"none\" stroke=\"black\" d=\"M136.65,-404.86C136.65,-391.7 136.65,-373.6 136.65,-360.38\"/>\n<text text-anchor=\"middle\" x=\"157.65\" y=\"-380.6\" font-family=\"Times,serif\" font-size=\"8.00\">(2, 0) cost: 9</text>\n</g>\n<!-- (0, 3, 1) -->\n<g id=\"node11\" class=\"node\">\n<title>(0, 3, 1)</title>\n<ellipse fill=\"none\" stroke=\"black\" cx=\"136.65\" cy=\"-261\" rx=\"39.79\" ry=\"18\"/>\n<text text-anchor=\"middle\" x=\"136.65\" y=\"-257.3\" font-family=\"Times,serif\" font-size=\"14.00\">(0, 3, 1)</text>\n</g>\n<!-- (0, 2, 0)&#45;&#45;(0, 3, 1) -->\n<g id=\"edge10\" class=\"edge\">\n<title>(0, 2, 0)--(0, 3, 1)</title>\n<path fill=\"none\" stroke=\"black\" d=\"M136.65,-323.86C136.65,-310.7 136.65,-292.6 136.65,-279.38\"/>\n<text text-anchor=\"middle\" x=\"159.65\" y=\"-299.6\" font-family=\"Times,serif\" font-size=\"8.00\">(0, 1) cost: 11</text>\n</g>\n<!-- (0, 1, 0) -->\n<g id=\"node12\" class=\"node\">\n<title>(0, 1, 0)</title>\n<ellipse fill=\"none\" stroke=\"black\" cx=\"136.65\" cy=\"-180\" rx=\"39.79\" ry=\"18\"/>\n<text text-anchor=\"middle\" x=\"136.65\" y=\"-176.3\" font-family=\"Times,serif\" font-size=\"14.00\">(0, 1, 0)</text>\n</g>\n<!-- (0, 3, 1)&#45;&#45;(0, 1, 0) -->\n<g id=\"edge11\" class=\"edge\">\n<title>(0, 3, 1)--(0, 1, 0)</title>\n<path fill=\"none\" stroke=\"black\" d=\"M136.65,-242.86C136.65,-229.7 136.65,-211.6 136.65,-198.38\"/>\n<text text-anchor=\"middle\" x=\"159.65\" y=\"-218.6\" font-family=\"Times,serif\" font-size=\"8.00\">(0, 2) cost: 10</text>\n</g>\n<!-- (1, 1, 1) -->\n<g id=\"node13\" class=\"node\">\n<title>(1, 1, 1)</title>\n<ellipse fill=\"none\" stroke=\"black\" cx=\"74.65\" cy=\"-99\" rx=\"39.79\" ry=\"18\"/>\n<text text-anchor=\"middle\" x=\"74.65\" y=\"-95.3\" font-family=\"Times,serif\" font-size=\"14.00\">(1, 1, 1)</text>\n</g>\n<!-- (0, 1, 0)&#45;&#45;(1, 1, 1) -->\n<g id=\"edge12\" class=\"edge\">\n<title>(0, 1, 0)--(1, 1, 1)</title>\n<path fill=\"none\" stroke=\"black\" d=\"M120.59,-163.15C115,-157.32 108.83,-150.55 103.65,-144 96.83,-135.39 90.04,-125.18 84.74,-116.77\"/>\n<text text-anchor=\"middle\" x=\"126.65\" y=\"-137.6\" font-family=\"Times,serif\" font-size=\"8.00\">(1, 0) cost: 12</text>\n</g>\n<!-- (0, 2, 1) -->\n<g id=\"node14\" class=\"node\">\n<title>(0, 2, 1)</title>\n<ellipse fill=\"none\" stroke=\"black\" cx=\"171.65\" cy=\"-99\" rx=\"39.79\" ry=\"18\"/>\n<text text-anchor=\"middle\" x=\"171.65\" y=\"-95.3\" font-family=\"Times,serif\" font-size=\"14.00\">(0, 2, 1)</text>\n</g>\n<!-- (0, 1, 0)&#45;&#45;(0, 2, 1) -->\n<g id=\"edge13\" class=\"edge\">\n<title>(0, 1, 0)--(0, 2, 1)</title>\n<path fill=\"none\" stroke=\"black\" d=\"M144.24,-161.86C150.11,-148.61 158.2,-130.35 164.07,-117.11\"/>\n<text text-anchor=\"middle\" x=\"178.65\" y=\"-137.6\" font-family=\"Times,serif\" font-size=\"8.00\">(0, 1) cost: 12</text>\n</g>\n<!-- (0, 0, 0) -->\n<g id=\"node15\" class=\"node\">\n<title>(0, 0, 0)</title>\n<ellipse fill=\"green\" stroke=\"black\" cx=\"74.65\" cy=\"-18\" rx=\"39.79\" ry=\"18\"/>\n<text text-anchor=\"middle\" x=\"74.65\" y=\"-14.3\" font-family=\"Times,serif\" font-size=\"14.00\">(0, 0, 0)</text>\n</g>\n<!-- (1, 1, 1)&#45;&#45;(0, 0, 0) -->\n<g id=\"edge14\" class=\"edge\">\n<title>(1, 1, 1)--(0, 0, 0)</title>\n<path fill=\"none\" stroke=\"black\" d=\"M74.65,-80.86C74.65,-67.7 74.65,-49.6 74.65,-36.38\"/>\n<text text-anchor=\"middle\" x=\"97.65\" y=\"-56.6\" font-family=\"Times,serif\" font-size=\"8.00\">(1, 1) cost: 11</text>\n</g>\n</g>\n</svg>",
      "text/plain": [
       "<IPython.core.display.SVG object>"
      ]
     },
     "execution_count": 6,
     "metadata": {},
     "output_type": "execute_result"
    }
   ],
   "source": [
    "result, graph = search.a_star()\n",
    "print(\"Há solução:\", result)\n",
    "graph.show()"
   ]
  },
  {
   "cell_type": "code",
   "execution_count": null,
   "metadata": {},
   "outputs": [],
   "source": []
  }
 ],
 "metadata": {
  "kernelspec": {
   "display_name": "Python 3",
   "language": "python",
   "name": "python3"
  },
  "language_info": {
   "codemirror_mode": {
    "name": "ipython",
    "version": 3
   },
   "file_extension": ".py",
   "mimetype": "text/x-python",
   "name": "python",
   "nbconvert_exporter": "python",
   "pygments_lexer": "ipython3",
   "version": "3.11.0"
  },
  "orig_nbformat": 4
 },
 "nbformat": 4,
 "nbformat_minor": 2
}
